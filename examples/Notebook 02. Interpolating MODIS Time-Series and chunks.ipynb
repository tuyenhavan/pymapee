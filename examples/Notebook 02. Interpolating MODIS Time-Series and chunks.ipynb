{
 "cells": [
  {
   "cell_type": "code",
   "execution_count": 1,
   "id": "fbc9813b",
   "metadata": {},
   "outputs": [],
   "source": [
    "import pymapee as pymap\n",
    "import geemap as emap\n",
    "import ee\n",
    "pymap.initialize_ee()"
   ]
  },
  {
   "cell_type": "markdown",
   "id": "05a9d9fe",
   "metadata": {},
   "source": [
    "## 1. Interpolating cloud-related pixels"
   ]
  },
  {
   "cell_type": "code",
   "execution_count": 2,
   "id": "830bd884",
   "metadata": {},
   "outputs": [],
   "source": [
    "# Area of interest\n",
    "aoi=ee.FeatureCollection(\"projects/tuyenhavan/assets/Julian_Province\")\n",
    "# MODIS LAI Terra (example)\n",
    "terra=ee.ImageCollection(\"MODIS/061/MOD15A2H\")\n",
    "# Masking cloud-related pixels\n",
    "terra_mask=pymap.modis_cloud_mask(terra,5,7,\"FparLai_QC\",1)\n",
    "\n",
    "lai_clip=terra_mask.map(lambda img: img.clip(aoi))"
   ]
  },
  {
   "cell_type": "code",
   "execution_count": 3,
   "id": "1cd2ebd1",
   "metadata": {},
   "outputs": [
    {
     "data": {
      "text/plain": [
       "1072"
      ]
     },
     "execution_count": 3,
     "metadata": {},
     "output_type": "execute_result"
    }
   ],
   "source": [
    "# Interpolating missing values\n",
    "lai_test=pymap.gee_linear_interpolate_nan(lai_clip, 60)\n",
    "lai_test.size().getInfo()"
   ]
  },
  {
   "cell_type": "markdown",
   "id": "81fdbb27",
   "metadata": {},
   "source": [
    "## 2. Split the study area into chunks"
   ]
  },
  {
   "cell_type": "code",
   "execution_count": 4,
   "id": "99e08fc3",
   "metadata": {},
   "outputs": [
    {
     "data": {
      "application/vnd.jupyter.widget-view+json": {
       "model_id": "e03aabb07f914d0daa2863142ad6c1a3",
       "version_major": 2,
       "version_minor": 0
      },
      "text/plain": [
       "Map(center=[16.547396784175472, 106.35557847623937], controls=(WidgetControl(options=['position', 'transparent…"
      ]
     },
     "metadata": {},
     "output_type": "display_data"
    }
   ],
   "source": [
    "aoi=ee.FeatureCollection(\"projects/tuyenhavan/assets/Vietnam_PhD\")\n",
    "\n",
    "chunks=pymap.chunk_maker(aoi, ncols=10, nrows=10)\n",
    "# Visualize the chunks\n",
    "Map=emap.Map()\n",
    "Map.centerObject(aoi, 5)\n",
    "Map.addLayer(chunks, {}, \"Chunks\")\n",
    "Map.addLayer(aoi, {}, \"VN Map\")\n",
    "Map"
   ]
  },
  {
   "cell_type": "markdown",
   "id": "91ae86a9",
   "metadata": {},
   "source": [
    "We can loop over each tile and do computation."
   ]
  },
  {
   "cell_type": "code",
   "execution_count": 5,
   "id": "530df056",
   "metadata": {},
   "outputs": [],
   "source": [
    "mlist=[]\n",
    "\n",
    "for feat in chunks.getInfo()[\"features\"]:\n",
    "    tem_feat=ee.Feature(feat)\n",
    "    mlist.append(tem_feat)\n",
    "new_feat_col=ee.FeatureCollection(mlist)"
   ]
  },
  {
   "cell_type": "code",
   "execution_count": 6,
   "id": "137e5365",
   "metadata": {},
   "outputs": [
    {
     "data": {
      "application/vnd.jupyter.widget-view+json": {
       "model_id": "0f5bf505883b46e2afb4d43555dfb732",
       "version_major": 2,
       "version_minor": 0
      },
      "text/plain": [
       "Map(center=[40, -100], controls=(WidgetControl(options=['position', 'transparent_bg'], widget=HBox(children=(T…"
      ]
     },
     "metadata": {},
     "output_type": "display_data"
    }
   ],
   "source": [
    "# Visualize the last tile\n",
    "Map=emap.Map()\n",
    "Map.centerObject(tem_feat)\n",
    "Map.addLayer(tem_feat)\n",
    "Map"
   ]
  }
 ],
 "metadata": {
  "kernelspec": {
   "display_name": "Python 3",
   "language": "python",
   "name": "python3"
  },
  "language_info": {
   "codemirror_mode": {
    "name": "ipython",
    "version": 3
   },
   "file_extension": ".py",
   "mimetype": "text/x-python",
   "name": "python",
   "nbconvert_exporter": "python",
   "pygments_lexer": "ipython3",
   "version": "3.8.10"
  },
  "varInspector": {
   "cols": {
    "lenName": 16,
    "lenType": 16,
    "lenVar": 40
   },
   "kernels_config": {
    "python": {
     "delete_cmd_postfix": "",
     "delete_cmd_prefix": "del ",
     "library": "var_list.py",
     "varRefreshCmd": "print(var_dic_list())"
    },
    "r": {
     "delete_cmd_postfix": ") ",
     "delete_cmd_prefix": "rm(",
     "library": "var_list.r",
     "varRefreshCmd": "cat(var_dic_list()) "
    }
   },
   "types_to_exclude": [
    "module",
    "function",
    "builtin_function_or_method",
    "instance",
    "_Feature"
   ],
   "window_display": false
  }
 },
 "nbformat": 4,
 "nbformat_minor": 5
}
