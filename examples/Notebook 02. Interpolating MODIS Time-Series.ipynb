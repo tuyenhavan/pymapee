{
 "cells": [
  {
   "cell_type": "code",
   "execution_count": 1,
   "id": "fbc9813b",
   "metadata": {},
   "outputs": [],
   "source": [
    "import pymapee as pymap\n",
    "import ee\n",
    "pymap.initialize_ee()"
   ]
  },
  {
   "cell_type": "code",
   "execution_count": 2,
   "id": "830bd884",
   "metadata": {},
   "outputs": [],
   "source": [
    "# Area of interest\n",
    "aoi=ee.FeatureCollection(\"projects/tuyenhavan/assets/Julian_Province\")\n",
    "# MODIS LAI Terra \n",
    "terra=ee.ImageCollection(\"MODIS/061/MOD15A2H\")\n",
    "# Cloud mask\n",
    "terra_mask=pymap.modis_cloud_mask(terra,5,7,\"FparLai_QC\",1)\n",
    "\n",
    "lai_clip=terra_mask.map(lambda img: img.clip(aoi))"
   ]
  },
  {
   "cell_type": "code",
   "execution_count": 6,
   "id": "1cd2ebd1",
   "metadata": {},
   "outputs": [
    {
     "data": {
      "text/plain": [
       "1056"
      ]
     },
     "execution_count": 6,
     "metadata": {},
     "output_type": "execute_result"
    }
   ],
   "source": [
    "# Interpolated missing values\n",
    "lai_test=pymap.gee_linear_interpolate_nan(lai_clip, 60)\n",
    "lai_test.size().getInfo()"
   ]
  },
  {
   "cell_type": "code",
   "execution_count": null,
   "id": "995b5941",
   "metadata": {},
   "outputs": [],
   "source": []
  }
 ],
 "metadata": {
  "kernelspec": {
   "display_name": "geos",
   "language": "python",
   "name": "geos"
  },
  "language_info": {
   "codemirror_mode": {
    "name": "ipython",
    "version": 3
   },
   "file_extension": ".py",
   "mimetype": "text/x-python",
   "name": "python",
   "nbconvert_exporter": "python",
   "pygments_lexer": "ipython3",
   "version": "3.8.10"
  },
  "varInspector": {
   "cols": {
    "lenName": 16,
    "lenType": 16,
    "lenVar": 40
   },
   "kernels_config": {
    "python": {
     "delete_cmd_postfix": "",
     "delete_cmd_prefix": "del ",
     "library": "var_list.py",
     "varRefreshCmd": "print(var_dic_list())"
    },
    "r": {
     "delete_cmd_postfix": ") ",
     "delete_cmd_prefix": "rm(",
     "library": "var_list.r",
     "varRefreshCmd": "cat(var_dic_list()) "
    }
   },
   "types_to_exclude": [
    "module",
    "function",
    "builtin_function_or_method",
    "instance",
    "_Feature"
   ],
   "window_display": false
  }
 },
 "nbformat": 4,
 "nbformat_minor": 5
}
