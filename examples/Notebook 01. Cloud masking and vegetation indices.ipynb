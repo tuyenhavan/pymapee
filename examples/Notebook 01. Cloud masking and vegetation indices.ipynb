{
 "cells": [
  {
   "cell_type": "code",
   "execution_count": 1,
   "id": "c8799664",
   "metadata": {},
   "outputs": [],
   "source": [
    "import pymapee as pymap\n",
    "import geemap as emap\n",
    "import ee\n",
    "pymap.initialize_ee()"
   ]
  },
  {
   "cell_type": "markdown",
   "id": "b825ed89",
   "metadata": {},
   "source": [
    "# 1. Masking cloud and produce monthly composites"
   ]
  },
  {
   "cell_type": "code",
   "execution_count": 2,
   "id": "21f1d696",
   "metadata": {},
   "outputs": [],
   "source": [
    "# MODIS NDVI Terra dataset\n",
    "ndvi=ee.ImageCollection(\"MODIS/061/MOD13A2\")"
   ]
  },
  {
   "cell_type": "code",
   "execution_count": 3,
   "id": "7f2f433a",
   "metadata": {},
   "outputs": [],
   "source": [
    "# Mask cloud-related pixels and slect NDVI band\n",
    "modis_mask=pymap.modis_cloud_mask(ndvi, 2, 5, \"DetailedQA\", 1).select(\"NDVI\")"
   ]
  },
  {
   "cell_type": "code",
   "execution_count": 4,
   "id": "ff32c966",
   "metadata": {},
   "outputs": [],
   "source": [
    "# Make monthly NDVI composite\n",
    "monthly_composite=pymap.monthly_composite(modis_mask, mode=\"median\").select(\"NDVI\")"
   ]
  },
  {
   "cell_type": "code",
   "execution_count": 5,
   "id": "c4025a34",
   "metadata": {},
   "outputs": [],
   "source": [
    "# Scaling NDVI data\n",
    "composite_scale=pymap.scaling_data(monthly_composite, 0.0001).filterDate(\"2015-01-01\",\"2020-01-01\")"
   ]
  },
  {
   "cell_type": "code",
   "execution_count": 6,
   "id": "c6e4eaac",
   "metadata": {},
   "outputs": [
    {
     "data": {
      "application/vnd.jupyter.widget-view+json": {
       "model_id": "3e6f9cf29f534fee9b602a49ef3335ae",
       "version_major": 2,
       "version_minor": 0
      },
      "text/plain": [
       "Map(center=[40, -100], controls=(WidgetControl(options=['position', 'transparent_bg'], widget=HBox(children=(T…"
      ]
     },
     "metadata": {},
     "output_type": "display_data"
    }
   ],
   "source": [
    "# If you don't have geemap package, please install it (!pip install geemap).\n",
    "Map=emap.Map()\n",
    "vis_params = {'bands': ['NDVI'], 'palette': ['9e0142', ' d0384e', ' ee6445', ' fb9c59', ' fece7c', ' fff1a7', ' f4faad', ' d1ec9c', ' 98d6a4', ' 5db7a9', ' 3683bb', ' 5e4fa2'], 'min': 0.0, 'max': 1}\n",
    "Map.addLayer(composite_scale.first(),vis_params, \"Monthly composite\")\n",
    "Map"
   ]
  },
  {
   "cell_type": "markdown",
   "id": "e4d85eea",
   "metadata": {},
   "source": [
    "# 2. Calculating Vegetation anomaly and condition indices"
   ]
  },
  {
   "cell_type": "code",
   "execution_count": 7,
   "id": "fab93e22",
   "metadata": {},
   "outputs": [],
   "source": [
    "# Vegetation anomaly index (VAI)\n",
    "vai=pymap.VAI(composite_scale)"
   ]
  },
  {
   "cell_type": "code",
   "execution_count": 8,
   "id": "bd362593",
   "metadata": {},
   "outputs": [
    {
     "data": {
      "application/vnd.jupyter.widget-view+json": {
       "model_id": "7e8cbc7bc7b644fd906c820da4aa07ca",
       "version_major": 2,
       "version_minor": 0
      },
      "text/plain": [
       "Map(center=[40, -100], controls=(WidgetControl(options=['position', 'transparent_bg'], widget=HBox(children=(T…"
      ]
     },
     "metadata": {},
     "output_type": "display_data"
    }
   ],
   "source": [
    "Map=emap.Map()\n",
    "vis_params = {'bands': ['VAI'], 'palette': ['9e0142', ' d0384e', ' ee6445', ' fb9c59', ' fece7c', ' fff1a7', ' f4faad', ' d1ec9c', ' 98d6a4', ' 5db7a9', ' 3683bb', ' 5e4fa2'], 'min': -0.1, 'max': 0.5}\n",
    "Map.addLayer(vai.first(),vis_params, \"Monthly composite\")\n",
    "Map"
   ]
  },
  {
   "cell_type": "code",
   "execution_count": 9,
   "id": "c8772bd5",
   "metadata": {},
   "outputs": [],
   "source": [
    "# Vegetation condition index (VCI)\n",
    "vci=pymap.VCI(composite_scale)"
   ]
  },
  {
   "cell_type": "code",
   "execution_count": 10,
   "id": "807d320d",
   "metadata": {},
   "outputs": [
    {
     "data": {
      "application/vnd.jupyter.widget-view+json": {
       "model_id": "6756c5c1fa9940e08db62181bfa04212",
       "version_major": 2,
       "version_minor": 0
      },
      "text/plain": [
       "Map(center=[40, -100], controls=(WidgetControl(options=['position', 'transparent_bg'], widget=HBox(children=(T…"
      ]
     },
     "metadata": {},
     "output_type": "display_data"
    }
   ],
   "source": [
    "Map=emap.Map()\n",
    "vis_params = {'bands': ['VCI'], 'palette': ['9e0142', ' d0384e', ' ee6445', ' fb9c59', ' fece7c', ' fff1a7', ' f4faad', ' d1ec9c', ' 98d6a4', ' 5db7a9', ' 3683bb', ' 5e4fa2'], 'min': 1, 'max': 100}\n",
    "Map.addLayer(vci.first(),vis_params, \"Monthly composite\")\n",
    "Map"
   ]
  },
  {
   "cell_type": "markdown",
   "id": "380ebf94",
   "metadata": {},
   "source": [
    "# 3. Creating daily composite"
   ]
  },
  {
   "cell_type": "code",
   "execution_count": 11,
   "id": "9fe98acd",
   "metadata": {},
   "outputs": [
    {
     "name": "stdout",
     "output_type": "stream",
     "text": [
      "Number of hourly images: 184080\n"
     ]
    }
   ],
   "source": [
    "# ERA5-Land Hourly datasets\n",
    "era5=ee.ImageCollection(\"ECMWF/ERA5_LAND/HOURLY\").select(\"temperature_2m\").filterDate(\"2000-01-01\",\"2020-12-31\")\n",
    "# The total number of hourly images from the collection\n",
    "print(f\"Number of hourly images: {era5.size().getInfo()}\")"
   ]
  },
  {
   "cell_type": "code",
   "execution_count": 15,
   "id": "c0941b57",
   "metadata": {},
   "outputs": [
    {
     "name": "stdout",
     "output_type": "stream",
     "text": [
      "Number of daily images: 7670\n"
     ]
    }
   ],
   "source": [
    "daily_composite=pymap.daily_composite(era5)\n",
    "# The total number of daily images (hours) from the collection\n",
    "print(f\"Number of daily images: {daily_composite.size().getInfo()}\")"
   ]
  },
  {
   "cell_type": "markdown",
   "id": "d1097938",
   "metadata": {},
   "source": [
    "# 4. Download NDVI time-series data given the area of interest."
   ]
  },
  {
   "cell_type": "code",
   "execution_count": 12,
   "id": "de6f8248",
   "metadata": {},
   "outputs": [],
   "source": [
    "aoi = ee.FeatureCollection(\"projects/tuyenhavan/assets/Vietnam_PhD\")"
   ]
  },
  {
   "cell_type": "code",
   "execution_count": 13,
   "id": "2b081f9d",
   "metadata": {},
   "outputs": [],
   "source": [
    "pymap.export_to_googledrive(monthly_composite, aoi, \"Export_Data\",\"Monthly_dataset\", res=1000)"
   ]
  },
  {
   "cell_type": "markdown",
   "id": "a017664f",
   "metadata": {},
   "source": [
    "When downloading data over a large area, the downloaded data may be split into various tiles. You can merge them all together."
   ]
  }
 ],
 "metadata": {
  "kernelspec": {
   "display_name": "Python 3 (ipykernel)",
   "language": "python",
   "name": "python3"
  },
  "language_info": {
   "codemirror_mode": {
    "name": "ipython",
    "version": 3
   },
   "file_extension": ".py",
   "mimetype": "text/x-python",
   "name": "python",
   "nbconvert_exporter": "python",
   "pygments_lexer": "ipython3",
   "version": "3.8.10"
  },
  "varInspector": {
   "cols": {
    "lenName": 16,
    "lenType": 16,
    "lenVar": 40
   },
   "kernels_config": {
    "python": {
     "delete_cmd_postfix": "",
     "delete_cmd_prefix": "del ",
     "library": "var_list.py",
     "varRefreshCmd": "print(var_dic_list())"
    },
    "r": {
     "delete_cmd_postfix": ") ",
     "delete_cmd_prefix": "rm(",
     "library": "var_list.r",
     "varRefreshCmd": "cat(var_dic_list()) "
    }
   },
   "types_to_exclude": [
    "module",
    "function",
    "builtin_function_or_method",
    "instance",
    "_Feature"
   ],
   "window_display": false
  }
 },
 "nbformat": 4,
 "nbformat_minor": 5
}
