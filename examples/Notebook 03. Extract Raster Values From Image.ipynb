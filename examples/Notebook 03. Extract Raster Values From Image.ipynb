{
 "cells": [
  {
   "cell_type": "code",
   "execution_count": 2,
   "id": "88c11a6f",
   "metadata": {},
   "outputs": [],
   "source": [
    "import pymapee as pymap \n",
    "import ee\n",
    "pymap.initialize_ee()"
   ]
  },
  {
   "attachments": {},
   "cell_type": "markdown",
   "id": "93eb1128",
   "metadata": {},
   "source": [
    "# 1. Extract Raster Values from an image using shapefile."
   ]
  },
  {
   "cell_type": "code",
   "execution_count": 3,
   "id": "cc277a14",
   "metadata": {},
   "outputs": [],
   "source": [
    "# MODIS NDVI Terra dataset\n",
    "ndvi=ee.ImageCollection(\"MODIS/061/MOD13A2\")\n",
    "# Mask cloud-related pixels and slect NDVI band\n",
    "modis_mask=pymap.modis_cloud_mask(ndvi, 2, 5, \"DetailedQA\", 1).select(\"NDVI\")\n",
    "# Make monthly NDVI composite\n",
    "monthly_composite=pymap.monthly_composite(modis_mask, mode=\"median\").select(\"NDVI\")"
   ]
  },
  {
   "cell_type": "code",
   "execution_count": 5,
   "id": "ec8eac29",
   "metadata": {},
   "outputs": [
    {
     "data": {
      "text/html": [
       "<div>\n",
       "<style scoped>\n",
       "    .dataframe tbody tr th:only-of-type {\n",
       "        vertical-align: middle;\n",
       "    }\n",
       "\n",
       "    .dataframe tbody tr th {\n",
       "        vertical-align: top;\n",
       "    }\n",
       "\n",
       "    .dataframe thead th {\n",
       "        text-align: right;\n",
       "    }\n",
       "</style>\n",
       "<table border=\"1\" class=\"dataframe\">\n",
       "  <thead>\n",
       "    <tr style=\"text-align: right;\">\n",
       "      <th></th>\n",
       "      <th>DayOfYear</th>\n",
       "      <th>DetailedQA</th>\n",
       "      <th>EVI</th>\n",
       "      <th>NDVI</th>\n",
       "      <th>RelativeAzimuth</th>\n",
       "      <th>SolarZenith</th>\n",
       "      <th>SummaryQA</th>\n",
       "      <th>ViewZenith</th>\n",
       "      <th>sur_refl_b01</th>\n",
       "      <th>sur_refl_b02</th>\n",
       "      <th>sur_refl_b03</th>\n",
       "      <th>sur_refl_b07</th>\n",
       "    </tr>\n",
       "  </thead>\n",
       "  <tbody>\n",
       "    <tr>\n",
       "      <th>0</th>\n",
       "      <td>59.649838</td>\n",
       "      <td>9711.016426</td>\n",
       "      <td>4712.474235</td>\n",
       "      <td>5785.257910</td>\n",
       "      <td>8502.010533</td>\n",
       "      <td>2638.173766</td>\n",
       "      <td>1.753718</td>\n",
       "      <td>2826.415360</td>\n",
       "      <td>1368.915087</td>\n",
       "      <td>4261.242328</td>\n",
       "      <td>1202.416787</td>\n",
       "      <td>1166.021861</td>\n",
       "    </tr>\n",
       "    <tr>\n",
       "      <th>1</th>\n",
       "      <td>61.752793</td>\n",
       "      <td>3031.595357</td>\n",
       "      <td>1257.195597</td>\n",
       "      <td>1509.908795</td>\n",
       "      <td>4808.845264</td>\n",
       "      <td>2951.847682</td>\n",
       "      <td>2.981354</td>\n",
       "      <td>2646.862989</td>\n",
       "      <td>3692.629935</td>\n",
       "      <td>4652.943836</td>\n",
       "      <td>3708.900240</td>\n",
       "      <td>2545.746724</td>\n",
       "    </tr>\n",
       "    <tr>\n",
       "      <th>2</th>\n",
       "      <td>63.111469</td>\n",
       "      <td>3379.687551</td>\n",
       "      <td>166.334263</td>\n",
       "      <td>166.877330</td>\n",
       "      <td>3809.442654</td>\n",
       "      <td>3222.362476</td>\n",
       "      <td>3.000000</td>\n",
       "      <td>4320.008188</td>\n",
       "      <td>5940.887802</td>\n",
       "      <td>6145.960306</td>\n",
       "      <td>5592.163111</td>\n",
       "      <td>3323.561945</td>\n",
       "    </tr>\n",
       "    <tr>\n",
       "      <th>3</th>\n",
       "      <td>63.348447</td>\n",
       "      <td>6858.993445</td>\n",
       "      <td>244.234743</td>\n",
       "      <td>257.616004</td>\n",
       "      <td>-3040.755717</td>\n",
       "      <td>3452.274179</td>\n",
       "      <td>3.000000</td>\n",
       "      <td>3053.060890</td>\n",
       "      <td>5331.050462</td>\n",
       "      <td>5603.716025</td>\n",
       "      <td>4998.950753</td>\n",
       "      <td>3679.883654</td>\n",
       "    </tr>\n",
       "    <tr>\n",
       "      <th>4</th>\n",
       "      <td>57.406579</td>\n",
       "      <td>3421.400600</td>\n",
       "      <td>3362.544002</td>\n",
       "      <td>5193.252354</td>\n",
       "      <td>-2494.766151</td>\n",
       "      <td>3026.006606</td>\n",
       "      <td>0.311463</td>\n",
       "      <td>2531.376471</td>\n",
       "      <td>819.580555</td>\n",
       "      <td>2679.807972</td>\n",
       "      <td>526.428850</td>\n",
       "      <td>1081.739123</td>\n",
       "    </tr>\n",
       "  </tbody>\n",
       "</table>\n",
       "</div>"
      ],
      "text/plain": [
       "   DayOfYear   DetailedQA          EVI         NDVI  RelativeAzimuth  \\\n",
       "0  59.649838  9711.016426  4712.474235  5785.257910      8502.010533   \n",
       "1  61.752793  3031.595357  1257.195597  1509.908795      4808.845264   \n",
       "2  63.111469  3379.687551   166.334263   166.877330      3809.442654   \n",
       "3  63.348447  6858.993445   244.234743   257.616004     -3040.755717   \n",
       "4  57.406579  3421.400600  3362.544002  5193.252354     -2494.766151   \n",
       "\n",
       "   SolarZenith  SummaryQA   ViewZenith  sur_refl_b01  sur_refl_b02  \\\n",
       "0  2638.173766   1.753718  2826.415360   1368.915087   4261.242328   \n",
       "1  2951.847682   2.981354  2646.862989   3692.629935   4652.943836   \n",
       "2  3222.362476   3.000000  4320.008188   5940.887802   6145.960306   \n",
       "3  3452.274179   3.000000  3053.060890   5331.050462   5603.716025   \n",
       "4  3026.006606   0.311463  2531.376471    819.580555   2679.807972   \n",
       "\n",
       "   sur_refl_b03  sur_refl_b07  \n",
       "0   1202.416787   1166.021861  \n",
       "1   3708.900240   2545.746724  \n",
       "2   5592.163111   3323.561945  \n",
       "3   4998.950753   3679.883654  \n",
       "4    526.428850   1081.739123  "
      ]
     },
     "execution_count": 5,
     "metadata": {},
     "output_type": "execute_result"
    }
   ],
   "source": [
    "aoi=ee.FeatureCollection(\"projects/tuyenhavan/assets/Vietnam_Province\")\n",
    "# Extract values for each province using average method from the first image.\n",
    "df=pymap.value_from_image(ee.Image(ndvi.first()), aoi, \"mean\")\n",
    "df.head()"
   ]
  },
  {
   "cell_type": "code",
   "execution_count": null,
   "id": "36f1b308",
   "metadata": {},
   "outputs": [],
   "source": []
  }
 ],
 "metadata": {
  "kernelspec": {
   "display_name": "geos",
   "language": "python",
   "name": "python3"
  },
  "language_info": {
   "codemirror_mode": {
    "name": "ipython",
    "version": 3
   },
   "file_extension": ".py",
   "mimetype": "text/x-python",
   "name": "python",
   "nbconvert_exporter": "python",
   "pygments_lexer": "ipython3",
   "version": "3.8.10"
  },
  "varInspector": {
   "cols": {
    "lenName": 16,
    "lenType": 16,
    "lenVar": 40
   },
   "kernels_config": {
    "python": {
     "delete_cmd_postfix": "",
     "delete_cmd_prefix": "del ",
     "library": "var_list.py",
     "varRefreshCmd": "print(var_dic_list())"
    },
    "r": {
     "delete_cmd_postfix": ") ",
     "delete_cmd_prefix": "rm(",
     "library": "var_list.r",
     "varRefreshCmd": "cat(var_dic_list()) "
    }
   },
   "types_to_exclude": [
    "module",
    "function",
    "builtin_function_or_method",
    "instance",
    "_Feature"
   ],
   "window_display": false
  }
 },
 "nbformat": 4,
 "nbformat_minor": 5
}
